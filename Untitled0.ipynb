{
  "nbformat": 4,
  "nbformat_minor": 0,
  "metadata": {
    "colab": {
      "provenance": [],
      "authorship_tag": "ABX9TyPaKN3YjldSxTtFZr2/kKUa",
      "include_colab_link": true
    },
    "kernelspec": {
      "name": "python3",
      "display_name": "Python 3"
    },
    "language_info": {
      "name": "python"
    }
  },
  "cells": [
    {
      "cell_type": "markdown",
      "metadata": {
        "id": "view-in-github",
        "colab_type": "text"
      },
      "source": [
        "<a href=\"https://colab.research.google.com/github/Yandri-99/Hola-mundo/blob/main/Untitled0.ipynb\" target=\"_parent\"><img src=\"https://colab.research.google.com/assets/colab-badge.svg\" alt=\"Open In Colab\"/></a>"
      ]
    },
    {
      "cell_type": "code",
      "execution_count": null,
      "metadata": {
        "id": "pGoxL7sx26CB"
      },
      "outputs": [],
      "source": [
        "#Calcular el Iva"
      ]
    },
    {
      "cell_type": "markdown",
      "source": [
        "#Este script te calcula el Iva del 15%"
      ],
      "metadata": {
        "id": "AN2iJiq03RPM"
      }
    },
    {
      "cell_type": "code",
      "source": [
        "# Bloque 1: Definición de funciones\n",
        "def calcular_iva(monto: float, tasa_iva: float = 0.15) -> float:\n",
        "    \"\"\"\n",
        "    Función para calcular el IVA de un monto dado.\n",
        "\n",
        "    Parámetros:\n",
        "    monto (float): El monto sobre el que se calcula el IVA.\n",
        "    tasa_iva (float): La tasa de IVA, por defecto es 0.15 (15%).\n",
        "\n",
        "    Retorna:\n",
        "    float: El valor del IVA calculado.\n",
        "    \"\"\"\n",
        "    iva = monto * tasa_iva\n",
        "    return iva\n",
        "\n",
        "def calcular_total_con_iva(monto: float, iva: float) -> float:\n",
        "    \"\"\"\n",
        "    Función para calcular el total con el IVA incluido.\n",
        "\n",
        "    Parámetros:\n",
        "    monto (float): El monto original sin IVA.\n",
        "    iva (float): El valor del IVA calculado previamente.\n",
        "\n",
        "    Retorna:\n",
        "    float: El monto total con IVA.\n",
        "    \"\"\"\n",
        "    total_con_iva = monto + iva\n",
        "    return total_con_iva\n",
        "\n",
        "# Bloque 2: Entrada del usuario\n",
        "def obtener_monto_usuario() -> float:\n",
        "    \"\"\"\n",
        "    Función para obtener el monto desde la entrada del usuario.\n",
        "\n",
        "    Retorna:\n",
        "    float: El monto introducido por el usuario.\n",
        "    \"\"\"\n",
        "    while True:\n",
        "        try:\n",
        "            monto = float(input(\"Introduce el monto para calcular el IVA (sin IVA): \"))\n",
        "            if monto < 0:\n",
        "                print(\"El monto no puede ser negativo. Intenta de nuevo.\")\n",
        "            else:\n",
        "                return monto\n",
        "        except ValueError:\n",
        "            print(\"Por favor, ingresa un número válido.\")\n",
        "\n",
        "# Bloque 3: Ejecución principal\n",
        "def main():\n",
        "    \"\"\"\n",
        "    Función principal que orquesta el cálculo del IVA y el total con IVA.\n",
        "    \"\"\"\n",
        "    monto_sin_iva = obtener_monto_usuario()\n",
        "\n",
        "    iva_calculado = calcular_iva(monto_sin_iva)\n",
        "    total_con_iva = calcular_total_con_iva(monto_sin_iva, iva_calculado)\n",
        "\n",
        "    print(f\"\\nMonto sin IVA: ${monto_sin_iva:.2f}\")\n",
        "    print(f\"IVA calculado (15%): ${iva_calculado:.2f}\")\n",
        "    print(f\"Total con IVA: ${total_con_iva:.2f}\")\n",
        "\n",
        "# Bloque 4: Ejecución del script\n",
        "if __name__ == \"__main__\":\n",
        "    main()\n"
      ],
      "metadata": {
        "colab": {
          "base_uri": "https://localhost:8080/"
        },
        "id": "MsY4cy6q4_WM",
        "outputId": "ef47c227-8911-4629-b752-5dbc81d095af"
      },
      "execution_count": 1,
      "outputs": [
        {
          "output_type": "stream",
          "name": "stdout",
          "text": [
            "Introduce el monto para calcular el IVA (sin IVA): 288\n",
            "\n",
            "Monto sin IVA: $288.00\n",
            "IVA calculado (15%): $43.20\n",
            "Total con IVA: $331.20\n"
          ]
        }
      ]
    },
    {
      "cell_type": "markdown",
      "source": [
        "# Calculadora Cientifica"
      ],
      "metadata": {
        "id": "lY8E03xH6EVy"
      }
    },
    {
      "cell_type": "code",
      "source": [
        "# Función para mostrar el menú de opciones:\n",
        "# En este bloque podemos mostrar el menu de opciones de la calculadora\n",
        "def mostrar_menu():\n",
        "    print(\"\\nCalculadora\")\n",
        "    print(\"1. Sumar\")\n",
        "    print(\"2. Restar\")\n",
        "    print(\"3. Multiplicar\")\n",
        "    print(\"4. Dividir\")\n",
        "    print(\"5. Exponenciación\")\n",
        "    print(\"6. Salir\")\n",
        "\n",
        "# Función para realizar operaciones matemáticas:\n",
        "# En este bloque hacemos las operaciones que tiene una calculadora\n",
        "def realizar_operacion(opcion):\n",
        "    if opcion == 1:\n",
        "        # Sumar\n",
        "        num1 = float(input(\"Introduce el primer número: \"))\n",
        "        num2 = float(input(\"Introduce el segundo número: \"))\n",
        "        resultado = num1 + num2\n",
        "        print(f\"Resultado: {resultado}\")\n",
        "\n",
        "    elif opcion == 2:\n",
        "        # Restar\n",
        "        num1 = float(input(\"Introduce el primer número: \"))\n",
        "        num2 = float(input(\"Introduce el segundo número: \"))\n",
        "        resultado = num1 - num2\n",
        "        print(f\"Resultado: {resultado}\")\n",
        "\n",
        "    elif opcion == 3:\n",
        "        # Multiplicar\n",
        "        num1 = float(input(\"Introduce el primer número: \"))\n",
        "        num2 = float(input(\"Introduce el segundo número: \"))\n",
        "        resultado = num1 * num2\n",
        "        print(f\"Resultado: {resultado}\")\n",
        "\n",
        "    elif opcion == 4:\n",
        "        # Dividir\n",
        "        num1 = float(input(\"Introduce el primer número: \"))\n",
        "        num2 = float(input(\"Introduce el segundo número: \"))\n",
        "        if num2 != 0:\n",
        "            resultado = num1 / num2\n",
        "            print(f\"Resultado: {resultado}\")\n",
        "        else:\n",
        "            print(\"Error: No se puede dividir entre cero.\")\n",
        "\n",
        "    elif opcion == 5:\n",
        "        # Exponenciación\n",
        "        base = float(input(\"Introduce la base: \"))\n",
        "        exponente = float(input(\"Introduce el exponente: \"))\n",
        "        resultado = base ** exponente\n",
        "        print(f\"Resultado: {resultado}\")\n",
        "\n",
        "    elif opcion == 6:\n",
        "        # Salir\n",
        "        print(\"¡Gracias por usar la calculadora!\")\n",
        "        return False\n",
        "    return True\n",
        "\n",
        "# Función principal\n",
        "# En este Bloque hacemos la funcion principal para que corra cada operacion que se le pida.\n",
        "def main():\n",
        "    while True:\n",
        "        mostrar_menu()  # Muestra el menú de opciones\n",
        "        try:\n",
        "            opcion = int(input(\"Selecciona una opción (1-6): \"))\n",
        "            if opcion < 1 or opcion > 6:\n",
        "                print(\"Opción no válida. Por favor, selecciona una opción entre 1 y 6.\")\n",
        "                continue\n",
        "            continuar = realizar_operacion(opcion)  # Realiza la operación seleccionada\n",
        "            if not continuar:  # Si se elige salir, termina el programa\n",
        "                break\n",
        "        except ValueError:\n",
        "            print(\"Por favor, ingresa un número válido.\")\n",
        "\n",
        "# Ejecución del script\n",
        "if __name__ == \"__main__\":\n",
        "    main()\n"
      ],
      "metadata": {
        "colab": {
          "base_uri": "https://localhost:8080/"
        },
        "id": "yzSLvOT76Ne7",
        "outputId": "3cbaedc8-5393-43e4-ad59-3f82b4bbdeee"
      },
      "execution_count": 2,
      "outputs": [
        {
          "output_type": "stream",
          "name": "stdout",
          "text": [
            "\n",
            "Calculadora\n",
            "1. Sumar\n",
            "2. Restar\n",
            "3. Multiplicar\n",
            "4. Dividir\n",
            "5. Exponenciación\n",
            "6. Salir\n",
            "Selecciona una opción (1-6): 2\n",
            "Introduce el primer número: 3\n",
            "Introduce el segundo número: 2\n",
            "Resultado: 1.0\n",
            "\n",
            "Calculadora\n",
            "1. Sumar\n",
            "2. Restar\n",
            "3. Multiplicar\n",
            "4. Dividir\n",
            "5. Exponenciación\n",
            "6. Salir\n",
            "Selecciona una opción (1-6): 6\n",
            "¡Gracias por usar la calculadora!\n"
          ]
        }
      ]
    }
  ]
}